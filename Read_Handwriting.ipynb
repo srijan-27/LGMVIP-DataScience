{
  "nbformat": 4,
  "nbformat_minor": 0,
  "metadata": {
    "colab": {
      "name": "Read_Handwriting.ipynb",
      "provenance": [],
      "include_colab_link": true
    },
    "kernelspec": {
      "name": "python3",
      "display_name": "Python 3"
    },
    "language_info": {
      "name": "python"
    }
  },
  "cells": [
    {
      "cell_type": "markdown",
      "metadata": {
        "id": "view-in-github",
        "colab_type": "text"
      },
      "source": [
        "<a href=\"https://colab.research.google.com/github/srijan-27/LGMVIP-DataScience/blob/main/Read_Handwriting.ipynb\" target=\"_parent\"><img src=\"https://colab.research.google.com/assets/colab-badge.svg\" alt=\"Open In Colab\"/></a>"
      ]
    },
    {
      "cell_type": "markdown",
      "metadata": {
        "id": "p8ursi1QP7xN"
      },
      "source": [
        "### **LGM VIP Task-3: Develop A Neural Network That Can Read Handwriting**\n",
        "\n",
        "> **Executed by: Srijan Rastogi | srastogi751@gmail.com**\n",
        "\n"
      ]
    },
    {
      "cell_type": "markdown",
      "metadata": {
        "id": "wM6Dvzm8lhEq"
      },
      "source": [
        "### **Importing the Libraries**"
      ]
    },
    {
      "cell_type": "code",
      "metadata": {
        "id": "edf0_nbAYx9D"
      },
      "source": [
        "import tensorflow as tf\n",
        "from numpy import unique, argmax\n",
        "from matplotlib import pyplot\n",
        "import matplotlib.pyplot as plt\n",
        "import numpy as np"
      ],
      "execution_count": 1,
      "outputs": []
    },
    {
      "cell_type": "markdown",
      "metadata": {
        "id": "Vvb4Y35_P6a7"
      },
      "source": [
        "### **Load Dataset**"
      ]
    },
    {
      "cell_type": "code",
      "metadata": {
        "id": "oiJpk4B7Z7jq"
      },
      "source": [
        "mnist = tf.keras.datasets.mnist\n",
        "\n",
        "(x_train, y_train), (x_test, y_test) = mnist.load_data()"
      ],
      "execution_count": 2,
      "outputs": []
    },
    {
      "cell_type": "markdown",
      "metadata": {
        "id": "HtkZaleJl01A"
      },
      "source": [
        "### **Reshaping the trainning and testing dataset**"
      ]
    },
    {
      "cell_type": "code",
      "metadata": {
        "id": "7HRwwNUHLGst"
      },
      "source": [
        "x_train =x_train.reshape((x_train.shape[0] ,x_train.shape[1], x_train.shape[2],1))\n",
        "x_test =x_test.reshape((x_test.shape[0] ,x_test.shape[1], x_test.shape[2],1))"
      ],
      "execution_count": 3,
      "outputs": []
    },
    {
      "cell_type": "markdown",
      "metadata": {
        "id": "0SwoiPHbl7rz"
      },
      "source": [
        "### **Normalize the value of pixels in images**"
      ]
    },
    {
      "cell_type": "code",
      "metadata": {
        "id": "C7L_XCUHLcxS"
      },
      "source": [
        "x_train=x_train.astype('float32')/255.0\n",
        "x_test=x_test.astype('float32')/255.0"
      ],
      "execution_count": 4,
      "outputs": []
    },
    {
      "cell_type": "code",
      "metadata": {
        "colab": {
          "base_uri": "https://localhost:8080/",
          "height": 163
        },
        "id": "N95lPFQ8LwF7",
        "outputId": "c590a2eb-9e89-4a52-8d83-8dd3193172c0"
      },
      "source": [
        "fig=plt.figure(figsize=(5,3))\n",
        "for i in range(20):\n",
        "  ax =fig.add_subplot(2,10,i+1 ,xticks=[] ,yticks=[])\n",
        "  ax.imshow(np.squeeze(x_train[i]), cmap='gray')\n",
        "  ax.set_title(y_train[i])"
      ],
      "execution_count": 5,
      "outputs": [
        {
          "output_type": "display_data",
          "data": {
            "image/png": "[encoded data removed]",
            "text/plain": [
              "<Figure size 360x216 with 20 Axes>"
            ]
          },
          "metadata": {}
        }
      ]
    },
    {
      "cell_type": "markdown",
      "metadata": {
        "id": "IZcbogQUmATr"
      },
      "source": [
        "### **Determine the shape of input image**"
      ]
    },
    {
      "cell_type": "code",
      "metadata": {
        "colab": {
          "base_uri": "https://localhost:8080/"
        },
        "id": "aGnpswbNMMMa",
        "outputId": "b7b85e9c-bd01-445c-975a-af192e180801"
      },
      "source": [
        "img_shape= x_train.shape[1:]\n",
        "img_shape"
      ],
      "execution_count": 6,
      "outputs": [
        {
          "output_type": "execute_result",
          "data": {
            "text/plain": [
              "(28, 28, 1)"
            ]
          },
          "metadata": {},
          "execution_count": 6
        }
      ]
    },
    {
      "cell_type": "markdown",
      "metadata": {
        "id": "NfSdHFzimEN2"
      },
      "source": [
        "### **Defining the model**"
      ]
    },
    {
      "cell_type": "code",
      "metadata": {
        "id": "WFOAfwOzNHUc"
      },
      "source": [
        "import tensorflow as tf\n",
        "\n",
        "model = tf.keras.models.Sequential([\n",
        "  tf.keras.layers.Flatten(input_shape=(28, 28)),\n",
        "  tf.keras.layers.Dense(128, activation='relu'),\n",
        "  tf.keras.layers.Dropout(0.2),\n",
        "  tf.keras.layers.Dense(10)\n",
        "])"
      ],
      "execution_count": 7,
      "outputs": []
    },
    {
      "cell_type": "code",
      "metadata": {
        "colab": {
          "base_uri": "https://localhost:8080/"
        },
        "id": "IAWzdkABNKeS",
        "outputId": "7851c5b0-636f-4496-9046-89327f1ab724"
      },
      "source": [
        "model.summary()"
      ],
      "execution_count": 8,
      "outputs": [
        {
          "output_type": "stream",
          "text": [
            "Model: \"sequential\"\n",
            "_________________________________________________________________\n",
            "Layer (type)                 Output Shape              Param #   \n",
            "=================================================================\n",
            "flatten (Flatten)            (None, 784)               0         \n",
            "_________________________________________________________________\n",
            "dense (Dense)                (None, 128)               100480    \n",
            "_________________________________________________________________\n",
            "dropout (Dropout)            (None, 128)               0         \n",
            "_________________________________________________________________\n",
            "dense_1 (Dense)              (None, 10)                1290      \n",
            "=================================================================\n",
            "Total params: 101,770\n",
            "Trainable params: 101,770\n",
            "Non-trainable params: 0\n",
            "_________________________________________________________________\n"
          ],
          "name": "stdout"
        }
      ]
    },
    {
      "cell_type": "code",
      "metadata": {
        "colab": {
          "base_uri": "https://localhost:8080/",
          "height": 533
        },
        "id": "BtFY8AZsNNic",
        "outputId": "23714b84-bc8c-4be7-9324-7d2026969b73"
      },
      "source": [
        "from tensorflow.keras.utils import plot_model\n",
        "plot_model(model, 'model.jpg', show_shapes=True)"
      ],
      "execution_count": 9,
      "outputs": [
        {
          "output_type": "execute_result",
          "data": {
            "image/jpeg": "[encoded data removed]",
            "text/plain": [
              "<IPython.core.display.Image object>"
            ]
          },
          "metadata": {},
          "execution_count": 9
        }
      ]
    },
    {
      "cell_type": "code",
      "metadata": {
        "colab": {
          "base_uri": "https://localhost:8080/"
        },
        "id": "h-n8qOONNQYq",
        "outputId": "7c9c21d9-baf3-483f-92e0-22a4d42a16d3"
      },
      "source": [
        "predictions = model(x_train[:1]).numpy()\n",
        "predictions"
      ],
      "execution_count": 10,
      "outputs": [
        {
          "output_type": "execute_result",
          "data": {
            "text/plain": [
              "array([[-0.527384  ,  0.1464605 ,  0.61826664, -0.40130395,  0.4385426 ,\n",
              "        -0.05730604, -0.01644266,  0.0780267 ,  0.20525397, -0.25201723]],\n",
              "      dtype=float32)"
            ]
          },
          "metadata": {},
          "execution_count": 10
        }
      ]
    },
    {
      "cell_type": "code",
      "metadata": {
        "colab": {
          "base_uri": "https://localhost:8080/"
        },
        "id": "HaWd-J7oNd0L",
        "outputId": "e3ba5cab-3c04-4594-fbc4-70ea4abc2a29"
      },
      "source": [
        "tf.nn.softmax(predictions).numpy()"
      ],
      "execution_count": 11,
      "outputs": [
        {
          "output_type": "execute_result",
          "data": {
            "text/plain": [
              "array([[0.05445318, 0.10682432, 0.17122728, 0.06177021, 0.1430605 ,\n",
              "        0.08713154, 0.09076579, 0.09975846, 0.11329319, 0.07171558]],\n",
              "      dtype=float32)"
            ]
          },
          "metadata": {},
          "execution_count": 11
        }
      ]
    },
    {
      "cell_type": "markdown",
      "metadata": {
        "id": "N9_j1TykmKks"
      },
      "source": [
        "### **Compling The Model**"
      ]
    },
    {
      "cell_type": "code",
      "metadata": {
        "id": "jOBRXpzxNgW8"
      },
      "source": [
        "loss_fn = tf.keras.losses.SparseCategoricalCrossentropy(from_logits=True)\n",
        "loss_fn(y_train[:1], predictions).numpy()\n",
        "model.compile(optimizer='adam',loss=loss_fn, metrics=['accuracy'])"
      ],
      "execution_count": 12,
      "outputs": []
    },
    {
      "cell_type": "markdown",
      "metadata": {
        "id": "2_GeaTK8mNwU"
      },
      "source": [
        "### **Train the model**"
      ]
    },
    {
      "cell_type": "code",
      "metadata": {
        "colab": {
          "base_uri": "https://localhost:8080/"
        },
        "id": "5CzJaBtsNikF",
        "outputId": "14b4653d-44cb-40b1-a8a0-15191b45cac9"
      },
      "source": [
        "model.fit(x_train, y_train, epochs=5)"
      ],
      "execution_count": 13,
      "outputs": [
        {
          "output_type": "stream",
          "text": [
            "Epoch 1/5\n",
            "1875/1875 [==============================] - 4s 2ms/step - loss: 0.2944 - accuracy: 0.9153\n",
            "Epoch 2/5\n",
            "1875/1875 [==============================] - 4s 2ms/step - loss: 0.1484 - accuracy: 0.9553\n",
            "Epoch 3/5\n",
            "1875/1875 [==============================] - 4s 2ms/step - loss: 0.1092 - accuracy: 0.9675\n",
            "Epoch 4/5\n",
            "1875/1875 [==============================] - 4s 2ms/step - loss: 0.0904 - accuracy: 0.9722\n",
            "Epoch 5/5\n",
            "1875/1875 [==============================] - 4s 2ms/step - loss: 0.0759 - accuracy: 0.9761\n"
          ],
          "name": "stdout"
        },
        {
          "output_type": "execute_result",
          "data": {
            "text/plain": [
              "<keras.callbacks.History at 0x7f7f63fe5090>"
            ]
          },
          "metadata": {},
          "execution_count": 13
        }
      ]
    },
    {
      "cell_type": "markdown",
      "metadata": {
        "id": "f3Bs0hVumR9M"
      },
      "source": [
        "### **Model Evaluation**"
      ]
    },
    {
      "cell_type": "code",
      "metadata": {
        "colab": {
          "base_uri": "https://localhost:8080/"
        },
        "id": "HygBIH3COb2j",
        "outputId": "7119ebc3-08b0-4a3e-960d-af2f8eb7ffd0"
      },
      "source": [
        "model.evaluate(x_test,  y_test, verbose=5)"
      ],
      "execution_count": 14,
      "outputs": [
        {
          "output_type": "execute_result",
          "data": {
            "text/plain": [
              "[0.07231943309307098, 0.9775999784469604]"
            ]
          },
          "metadata": {},
          "execution_count": 14
        }
      ]
    },
    {
      "cell_type": "markdown",
      "metadata": {
        "id": "TPOe40KJmVY1"
      },
      "source": [
        "### **Probablity of the model**"
      ]
    },
    {
      "cell_type": "code",
      "metadata": {
        "colab": {
          "base_uri": "https://localhost:8080/"
        },
        "id": "AoPpaANrOe9M",
        "outputId": "0dbae44e-24a8-439d-b913-52fc1a7cb341"
      },
      "source": [
        "probability_model = tf.keras.Sequential([ model, tf.keras.layers.Softmax() ])\n",
        "probability_model(x_test[:5])"
      ],
      "execution_count": 15,
      "outputs": [
        {
          "output_type": "execute_result",
          "data": {
            "text/plain": [
              "<tf.Tensor: shape=(5, 10), dtype=float32, numpy=\n",
              "array([[5.9795184e-08, 4.9562185e-09, 1.4966492e-05, 4.8601483e-05,\n",
              "        2.7074487e-11, 2.6612003e-08, 4.9195993e-13, 9.9993002e-01,\n",
              "        1.5740747e-07, 6.1209507e-06],\n",
              "       [1.0853594e-05, 7.9688914e-05, 9.9988723e-01, 9.2921191e-06,\n",
              "        3.6807377e-16, 5.5401015e-06, 2.2486929e-06, 6.1991612e-13,\n",
              "        5.1156367e-06, 7.2234610e-16],\n",
              "       [8.0486124e-08, 9.9965978e-01, 2.1155965e-05, 3.2438279e-06,\n",
              "        6.2002332e-06, 4.0254270e-07, 1.5738872e-06, 2.9345645e-04,\n",
              "        1.4125567e-05, 6.0500987e-08],\n",
              "       [9.9788982e-01, 6.7128418e-09, 1.7992001e-03, 8.0530981e-07,\n",
              "        2.0360335e-07, 3.9359969e-05, 2.5099964e-04, 2.0661496e-06,\n",
              "        9.2036038e-07, 1.6530515e-05],\n",
              "       [1.1251940e-06, 3.3265264e-09, 5.7689949e-06, 4.8938833e-08,\n",
              "        9.9960941e-01, 1.4140436e-07, 7.8347999e-05, 1.1337394e-05,\n",
              "        2.3736732e-07, 2.9355954e-04]], dtype=float32)>"
            ]
          },
          "metadata": {},
          "execution_count": 15
        }
      ]
    },
    {
      "cell_type": "markdown",
      "metadata": {
        "id": "Mrub-P96mZf9"
      },
      "source": [
        "### **Testing the model**"
      ]
    },
    {
      "cell_type": "code",
      "metadata": {
        "colab": {
          "base_uri": "https://localhost:8080/",
          "height": 265
        },
        "id": "9Q6ZiqTMOiH7",
        "outputId": "63d4c761-8150-42e9-d94c-8bb61c214679"
      },
      "source": [
        "img = x_train[8]\n",
        "plt.imshow(np.squeeze(img) ,cmap='gray')\n",
        "plt.show()"
      ],
      "execution_count": 16,
      "outputs": [
        {
          "output_type": "display_data",
          "data": {
            "image/png": "[encoded data removed]",
            "text/plain": [
              "<Figure size 432x288 with 1 Axes>"
            ]
          },
          "metadata": {
            "needs_background": "light"
          }
        }
      ]
    },
    {
      "cell_type": "code",
      "metadata": {
        "colab": {
          "base_uri": "https://localhost:8080/"
        },
        "id": "GUP7lJNUOlE0",
        "outputId": "d6381534-cd07-4414-a7aa-97839164f0e3"
      },
      "source": [
        "img= img.reshape(1, img.shape[0],img.shape[1],img.shape[2])\n",
        "p= model.predict([img])\n",
        "print(\"predicted: {}\".format(argmax(p)))"
      ],
      "execution_count": 17,
      "outputs": [
        {
          "output_type": "stream",
          "text": [
            "predicted: 1\n"
          ],
          "name": "stdout"
        }
      ]
    },
    {
      "cell_type": "code",
      "metadata": {
        "colab": {
          "base_uri": "https://localhost:8080/",
          "height": 265
        },
        "id": "Vn7b-R8CP7UD",
        "outputId": "7b9d7dca-6cd0-4800-e156-8e293d58f904"
      },
      "source": [
        "img = x_train[2]\n",
        "plt.imshow(np.squeeze(img) ,cmap='gray')\n",
        "plt.show()"
      ],
      "execution_count": 18,
      "outputs": [
        {
          "output_type": "display_data",
          "data": {
            "image/png": "[encoded data removed]",
            "text/plain": [
              "<Figure size 432x288 with 1 Axes>"
            ]
          },
          "metadata": {
            "needs_background": "light"
          }
        }
      ]
    },
    {
      "cell_type": "code",
      "metadata": {
        "colab": {
          "base_uri": "https://localhost:8080/"
        },
        "id": "E4UJ9IyoQDZV",
        "outputId": "1b08bc4b-c151-4bf0-eef3-45f90c7737d7"
      },
      "source": [
        "img= img.reshape(1, img.shape[0],img.shape[1],img.shape[2])\n",
        "p= model.predict([img])\n",
        "print(\"predicted: {}\".format(argmax(p)))"
      ],
      "execution_count": 19,
      "outputs": [
        {
          "output_type": "stream",
          "text": [
            "predicted: 4\n"
          ],
          "name": "stdout"
        }
      ]
    },
    {
      "cell_type": "code",
      "metadata": {
        "colab": {
          "base_uri": "https://localhost:8080/",
          "height": 265
        },
        "id": "c7Yx_7thP-ez",
        "outputId": "edcad6bb-6dca-4c27-e57e-263ac7b09058"
      },
      "source": [
        "img = x_train[5]\n",
        "plt.imshow(np.squeeze(img) ,cmap='gray')\n",
        "plt.show()"
      ],
      "execution_count": 20,
      "outputs": [
        {
          "output_type": "display_data",
          "data": {
            "image/png": "[encoded data removed]",
            "text/plain": [
              "<Figure size 432x288 with 1 Axes>"
            ]
          },
          "metadata": {
            "needs_background": "light"
          }
        }
      ]
    },
    {
      "cell_type": "code",
      "metadata": {
        "colab": {
          "base_uri": "https://localhost:8080/"
        },
        "id": "3LPB4gHdQGuL",
        "outputId": "55b5516d-1a1d-4470-d9e0-78fab5a50e98"
      },
      "source": [
        "img= img.reshape(1, img.shape[0],img.shape[1],img.shape[2])\n",
        "p= model.predict([img])\n",
        "print(\"predicted: {}\".format(argmax(p)))"
      ],
      "execution_count": 21,
      "outputs": [
        {
          "output_type": "stream",
          "text": [
            "predicted: 2\n"
          ],
          "name": "stdout"
        }
      ]
    }
  ]
}